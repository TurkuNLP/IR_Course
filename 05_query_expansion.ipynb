{
 "cells": [
  {
   "cell_type": "markdown",
   "metadata": {},
   "source": [
    "# Query expansion\n",
    "\n",
    "- Reformulate or expand the query in order to find more and better results\n",
    "\n",
    "1) Morphological\n",
    "- Find also different inflections of the search word (especially important for languages like Finnish)\n",
    "- If our search word is 'koiralle', maybe we should also return documents containing koira, koiran, koiraa, koiralla, koiralta, koirilla, koirilta, koirille...\n",
    "- Stemming or lemmatization\n",
    "\n",
    "2) Spelling errors\n",
    "- If a word is mistyped in the search, it's unlikely we will find good results --> spelling correction or 'Did you mean'\n",
    "\n",
    "3) Synonyms or related terms\n",
    "- Expand the search with synonyms or other related terms\n"
   ]
  },
  {
   "cell_type": "markdown",
   "metadata": {},
   "source": [
    "## 1. Morphology\n",
    "\n",
    "### Stemming\n",
    "\n",
    "- Reduce inflected word to a word stem by dropping all inflection affixes: open, opens, opening, opener --> open\n",
    "- Word stem: the part of the word that is common to all its inflected variants (not necessary same as the base form)\n",
    "- koira, koiran, koiria --> stem is koir\n",
    "- By default, Solr uses stemming in text fileds, text_en uses English stemming model and text_fi uses Finnish stemming model\n",
    "- Snowball stemmer: removes known affixes from words and only the stem should stay\n",
    "- bit too brute force for Finnish, e.g. removes 'na' from 'peruna' because -na is a known suffix for essives\n",
    "- Solr also has other, less aggressive stemmers...\n",
    "\n",
    "### Lemmatization\n",
    "\n",
    "- Determine the base form of the word\n",
    "- Maybe not a big deal in English? (UDPipe lemma accuracy 97%)\n",
    "- ...but more difficult problem in Finnish, UDPipe lemma accuracy 86.8%, but can be improved if rule-based morphological analyzer (Omorfi) is included\n",
    "- \n",
    "- Solr does not have ready-made lemmatizers, but one can include own lemmatizer"
   ]
  },
  {
   "cell_type": "markdown",
   "metadata": {
    "deletable": true,
    "editable": true
   },
   "source": [
    "## 3. Synonym expansion\n",
    "\n",
    "### WordNet\n",
    "\n",
    "- Lexical database where words are grouped into synonym sets (synsets), and other types of hiararchies (antonyms, hyponyms, hyperonyms)\n",
    "- English: http://wordnetweb.princeton.edu/perl/webwn\n",
    "- Finnish: http://www.ling.helsinki.fi/cgi-bin/fiwn/search\n",
    "\n",
    "- Also available at python NLTK package"
   ]
  },
  {
   "cell_type": "code",
   "execution_count": 8,
   "metadata": {
    "collapsed": false,
    "deletable": true,
    "editable": true,
    "scrolled": false
   },
   "outputs": [
    {
     "name": "stdout",
     "output_type": "stream",
     "text": [
      "[Synset('fire.n.01'), Synset('fire.n.02'), Synset('fire.n.03'), Synset('fire.n.04'), Synset('fire.n.05'), Synset('ardor.n.03'), Synset('fire.n.07'), Synset('fire.n.08'), Synset('fire.n.09'), Synset('open_fire.v.01'), Synset('fire.v.02'), Synset('fire.v.03'), Synset('displace.v.03'), Synset('fire.v.05'), Synset('fire.v.06'), Synset('arouse.v.01'), Synset('burn.v.01'), Synset('fuel.v.02')]\n",
      "[Synset('open_fire.v.01'), Synset('fire.v.02'), Synset('fire.v.03'), Synset('displace.v.03'), Synset('fire.v.05'), Synset('fire.v.06'), Synset('arouse.v.01'), Synset('burn.v.01'), Synset('fuel.v.02')]\n",
      "Synset('fire.n.01') the event of something burning (often destructive)\n",
      "Synset('open_fire.v.01') start firing a weapon\n",
      "['open_fire', 'fire'] \n",
      "\n",
      "Languages available: ['eng', 'als', 'arb', 'bul', 'cat', 'cmn', 'dan', 'ell', 'eus', 'fas', 'fin', 'fra', 'glg', 'heb', 'hrv', 'ind', 'ita', 'jpn', 'nno', 'nob', 'pol', 'por', 'qcn', 'slv', 'spa', 'swe', 'tha', 'zsm'] \n",
      "\n",
      "['ampua', 'avata_tuli'] \n",
      "\n",
      "['tuli', 'tulitus'] \n",
      "\n",
      "['plea-bargain', 'coffee_royal', 'mauna_loa', 'hot-rod', 'redcap']\n",
      "Total words English: 147306 \n",
      "\n",
      "['suhteellisuusperiaate', 'epäkeskinen', 'Cynomys_ludovicianus', 'piippuruoho', 'tahraaminen']\n",
      "Total words Finnish: 129839\n"
     ]
    }
   ],
   "source": [
    "# import nltk ; nltk.download() # download wordnet and other nltk material\n",
    "\n",
    "from nltk.corpus import wordnet as wn\n",
    "\n",
    "\n",
    "print(wn.synsets(\"fire\")) # all synsets for a word\n",
    "\n",
    "print(wn.synsets(\"fire\", pos=wn.VERB)) # define part-of-speech\n",
    "\n",
    "# synset definitions\n",
    "print(wn.synsets(\"fire\")[0],wn.synsets(\"fire\")[0].definition())\n",
    "print(wn.synsets(\"fire\", pos=wn.VERB)[0],wn.synsets(\"fire\", pos=wn.VERB)[0].definition())\n",
    "\n",
    "# all lemmas for a given synset\n",
    "lemmas=[lemma.name() for lemma in wn.synsets(\"fire\", pos=wn.VERB)[0].lemmas()]\n",
    "print(lemmas, \"\\n\")\n",
    "\n",
    "# List all languages available\n",
    "print(\"Languages available:\",wn.langs(), \"\\n\")\n",
    "\n",
    "# and Finnish lemmas for the same synset, note that we are still using the same 'English' synset\n",
    "lemmas=[lemma for lemma in wn.synsets(\"fire\", pos=wn.VERB)[0].lemma_names(\"fin\")]\n",
    "print(lemmas, \"\\n\")\n",
    "# ...but we can also use Finnish words\n",
    "print(wn.synsets(\"tuli\", lang=\"fin\")[0].lemma_names(\"fin\"), \"\\n\")\n",
    "\n",
    "# how many words wordnet has?\n",
    "all_lemmas=[l for l in wn.all_lemma_names(lang=\"eng\")]\n",
    "print(all_lemmas[:5])\n",
    "print(\"Total words English:\",len(all_lemmas), \"\\n\")\n",
    "\n",
    "\n",
    "# Finnish\n",
    "all_lemmas=[l for l in wn.all_lemma_names(lang=\"fin\")]\n",
    "print(all_lemmas[:5])\n",
    "print(\"Total words Finnish:\",len(all_lemmas))\n"
   ]
  },
  {
   "cell_type": "markdown",
   "metadata": {
    "deletable": true,
    "editable": true
   },
   "source": [
    "### synonym lists\n",
    "\n",
    "- now we can use these WordNet synsets to collect a list of synonyms for each word\n",
    "- ...and these synonyms can be used to expand queries\n",
    "- but must keep in mind that these are lemmas, not wordforms"
   ]
  },
  {
   "cell_type": "code",
   "execution_count": 9,
   "metadata": {
    "collapsed": false,
    "deletable": true,
    "editable": true
   },
   "outputs": [
    {
     "name": "stdout",
     "output_type": "stream",
     "text": [
      "Finnish: \n",
      "\n",
      "Original query: ['kissa', 'maukua'] \n",
      "\n",
      "Expanded query: ['Felis_catus', 'Felis_domesticus', 'iso_kissaeläin', 'kilpikonnakuvioinen_kissa', 'kissa', 'kissaeläin', 'kotikissa', 'maukua', 'naukua'] \n",
      "\n",
      "\n",
      "English: \n",
      "\n",
      "Original query: ['house', 'flames'] \n",
      "\n",
      "Expanded query: ['business_firm', 'domiciliate', 'family', 'fire', 'firm', 'flame', 'flames', 'flaming', 'flare', 'home', 'house', 'household', 'mansion', 'menage', 'planetary_house', 'put_up', 'sign', 'sign_of_the_zodiac', 'star_sign', 'theater', 'theatre'] \n",
      "\n",
      "\n"
     ]
    }
   ],
   "source": [
    "from nltk.corpus import wordnet as wn\n",
    "\n",
    "def expand_words(words, lang):\n",
    "    # function to expand a list of words using wordnet synsets\n",
    "    synonyms=[]\n",
    "    synonyms+=words\n",
    "    for w in words:\n",
    "        for s in wn.synsets(w, lang=lang):\n",
    "            synonyms+=s.lemma_names(lang)\n",
    "    return set(synonyms)\n",
    "\n",
    "print(\"Finnish:\", \"\\n\")\n",
    "search_words=[\"kissa\", \"maukua\"]\n",
    "print(\"Original query:\", search_words, \"\\n\")\n",
    "expanded=expand_words(search_words,\"fin\")\n",
    "print(\"Expanded query:\", sorted(expanded), \"\\n\")\n",
    "print(\"\")\n",
    "\n",
    "print(\"English:\", \"\\n\")\n",
    "search_words=[\"house\", \"flames\"]\n",
    "print(\"Original query:\", search_words, \"\\n\")\n",
    "expanded=expand_words(search_words,\"eng\")\n",
    "print(\"Expanded query:\", sorted(expanded), \"\\n\")\n",
    "print(\"\")\n"
   ]
  },
  {
   "cell_type": "markdown",
   "metadata": {
    "deletable": true,
    "editable": true
   },
   "source": [
    "### Word2vec\n",
    "\n",
    "- \"Similar words appear in similar contexts\"\n",
    "- https://github.com/tmikolov/word2vec"
   ]
  },
  {
   "cell_type": "code",
   "execution_count": 7,
   "metadata": {
    "collapsed": false,
    "deletable": true,
    "editable": true
   },
   "outputs": [
    {
     "name": "stdout",
     "output_type": "stream",
     "text": [
      "kissa: [(0.88850498, 'kani'), (0.8579123, 'kissanpentu'), (0.85663795, 'pentu'), (0.8336221, 'marsu'), (0.80795115, 'katti'), (0.80793911, 'hamsteri'), (0.8023504, 'koira'), (0.798271, 'kisu'), (0.78334367, 'kirppu'), (0.77792805, 'susi')] \n",
      "\n",
      "maukuu: [(0.8782531, 'naukui'), (0.8746469, 'maukui'), (0.86840028, 'naukaisi'), (0.80436617, 'sähisi'), (0.80063224, 'kolli'), (0.79289144, 'sähähti'), (0.78519303, 'murisi'), (0.76773942, 'murahti'), (0.75686067, 'naaras'), (0.75560999, 'sihahti')] \n",
      "\n",
      "ready\n"
     ]
    }
   ],
   "source": [
    "import lwvlib # https://github.com/fginter/wvlib_light\n",
    "\n",
    "model=lwvlib.load(\"/home/jmnybl/pb34_wf_200_v2_skgram.bin\",100000,500000)\n",
    "print(\"kissa:\", model.nearest(\"kissa\"), \"\\n\")\n",
    "print(\"maukuu:\", model.nearest(\"maukuu\"), \"\\n\") # note that these does not have to be base forms\n"
   ]
  }
 ],
 "metadata": {
  "kernelspec": {
   "display_name": "Python 3",
   "language": "python",
   "name": "python3"
  },
  "language_info": {
   "codemirror_mode": {
    "name": "ipython",
    "version": 3
   },
   "file_extension": ".py",
   "mimetype": "text/x-python",
   "name": "python",
   "nbconvert_exporter": "python",
   "pygments_lexer": "ipython3",
   "version": "3.5.2"
  }
 },
 "nbformat": 4,
 "nbformat_minor": 2
}
