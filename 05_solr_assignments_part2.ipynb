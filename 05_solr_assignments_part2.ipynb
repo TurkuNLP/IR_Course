{
 "cells": [
  {
   "cell_type": "markdown",
   "metadata": {
    "deletable": true,
    "editable": true
   },
   "source": [
    "# Indexing Reddit comments into Solr"
   ]
  },
  {
   "cell_type": "markdown",
   "metadata": {
    "deletable": true,
    "editable": true
   },
   "source": [
    "* 53 million comments available at\n",
    "* /home/avjves/reddit/reddit_comments.gz "
   ]
  },
  {
   "cell_type": "code",
   "execution_count": 4,
   "metadata": {
    "collapsed": false,
    "deletable": true,
    "editable": true
   },
   "outputs": [
    {
     "name": "stdout",
     "output_type": "stream",
     "text": [
      "{\"score_hidden\":false,\"name\":\"t1_cnas8zv\",\"link_id\":\"t3_2qyr1a\",\"body\":\"Most of us have some family members like this. *Most* of my family is like this. \",\"downs\":0,\"created_utc\":\"1420070400\",\"score\":14,\"author\":\"YoungModern\",\"distinguished\":null,\"id\":\"cnas8zv\",\"archived\":false,\"parent_id\":\"t3_2qyr1a\",\"subreddit\":\"exmormon\",\"author_flair_css_class\":null,\"author_flair_text\":null,\"gilded\":0,\"retrieved_on\":1425124282,\"ups\":14,\"controversiality\":0,\"subreddit_id\":\"t5_2r0gj\",\"edited\":false}\n",
      "{\"distinguished\":null,\"id\":\"cnas8zw\",\"archived\":false,\"author\":\"RedCoatsForever\",\"score\":3,\"created_utc\":\"1420070400\",\"downs\":0,\"body\":\"But Mill's career was way better. Bentham is like, the Joseph Smith to Mill's Brigham Young.\",\"link_id\":\"t3_2qv6c6\",\"name\":\"t1_cnas8zw\",\"score_hidden\":false,\"controversiality\":0,\"subreddit_id\":\"t5_2s4gt\",\"edited\":false,\"retrieved_on\":1425124282,\"ups\":3,\"author_flair_css_class\":\"on\",\"gilded\":0,\"author_flair_text\":\"Ontario\",\"subreddit\":\"CanadaPolitics\",\"parent_id\":\"t1_cnas2b6\"}\n",
      "\n",
      "gzip: stdout: Broken pipe\n"
     ]
    }
   ],
   "source": [
    "cd /home/avjves/reddit/\n",
    "zcat reddit_comments.gz | head -n 2"
   ]
  },
  {
   "cell_type": "markdown",
   "metadata": {
    "collapsed": false,
    "deletable": true,
    "editable": true
   },
   "source": [
    "* The format is identical to the tweets in the previous assignment\n",
    "* Make a new core to your Solr, decide what fields you want to index, modify the schema and write another script that indexes the data into your new core\n",
    "* At least \"body\", \"downs\", \"author\", \"subreddit\", \"gilded\", \"ups\"\n",
    "* If you also want the URL to the comment, you need to form it from the subreddit, link_id, and id values\n",
    "* https://www.reddit.com/r/\"subreddit\"/comments/\"link_id\"/\"id\"/\"id\"\n",
    "* No need to index all 53 million comments (Takes some resources and a lot of time...)\n",
    "* Only index the first 200 thousand comments"
   ]
  },
  {
   "cell_type": "code",
   "execution_count": 1,
   "metadata": {
    "collapsed": false,
    "deletable": true,
    "editable": true
   },
   "outputs": [],
   "source": [
    "import pysolr, gzip, json\n",
    "\n",
    "def get_comments(filename):\n",
    "    with gzip.open(filename, \"rt\") as gzip_file:\n",
    "        for line in gzip_file:\n",
    "            comment = json.loads(line)\n",
    "            doc = {}\n",
    "            ## Gather the stuff you want here\n",
    "            yield doc\n",
    "\n",
    "\n",
    "## Get comments, index them to solr... \n",
    "for doc in get_comments(\"/home/avjves/reddit/reddit_comments.gz\"):\n"
   ]
  },
  {
   "cell_type": "markdown",
   "metadata": {
    "collapsed": true,
    "deletable": true,
    "editable": true
   },
   "source": [
    "## Querying the data"
   ]
  },
  {
   "cell_type": "markdown",
   "metadata": {},
   "source": [
    "* So now we have indexed our reddit comments\n",
    "* Let's play around with them\n",
    "* Reddit comments have a few interesting fields: \n",
    "- ups (upvotes, show how many upvotes the comment has gotten)\n",
    "- downs (downvotes, similar to uvotes)\n",
    "- gilded (if some other user has gilded this comment)\n",
    "\n",
    "Let"
   ]
  },
  {
   "cell_type": "code",
   "execution_count": null,
   "metadata": {
    "collapsed": true
   },
   "outputs": [],
   "source": []
  }
 ],
 "metadata": {
  "kernelspec": {
   "display_name": "Python 3",
   "language": "python",
   "name": "python3"
  },
  "language_info": {
   "codemirror_mode": {
    "name": "ipython",
    "version": 3
   },
   "file_extension": ".py",
   "mimetype": "text/x-python",
   "name": "python",
   "nbconvert_exporter": "python",
   "pygments_lexer": "ipython3",
   "version": "3.5.2"
  }
 },
 "nbformat": 4,
 "nbformat_minor": 2
}
