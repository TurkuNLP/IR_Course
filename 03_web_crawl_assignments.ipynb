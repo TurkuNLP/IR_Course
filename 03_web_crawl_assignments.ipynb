{
 "cells": [
  {
   "cell_type": "markdown",
   "metadata": {},
   "source": [
    "# Web crawl tasks (more to come)\n",
    "\n",
    "On the lecture, we saw CommonCrawl as a great source of web crawl data. The latest CommonCrawl release is from January 2017 and can be found here:\n",
    "\n",
    "http://commoncrawl.org/2017/02/january-2017-crawl-archive-now-available/\n",
    "\n",
    "Especially the WET files are of interest to us, as they contain the plain text extracted from the crawls.\n",
    "\n",
    "## Task 1\n",
    "\n",
    "Using the `wet.paths.gz` file, a bash script, and the `curl` or `wget` programs, download the first few files from the archive.\n"
   ]
  }
 ],
 "metadata": {
  "kernelspec": {
   "display_name": "Python 3",
   "language": "python",
   "name": "python3"
  },
  "language_info": {
   "codemirror_mode": {
    "name": "ipython",
    "version": 3
   },
   "file_extension": ".py",
   "mimetype": "text/x-python",
   "name": "python",
   "nbconvert_exporter": "python",
   "pygments_lexer": "ipython3",
   "version": "3.5.2+"
  }
 },
 "nbformat": 4,
 "nbformat_minor": 2
}
