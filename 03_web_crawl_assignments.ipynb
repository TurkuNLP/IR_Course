{
 "cells": [
  {
   "cell_type": "markdown",
   "metadata": {
    "deletable": true,
    "editable": true
   },
   "source": [
    "# Web crawl tasks (more to come)\n",
    "\n",
    "On the lecture, we saw CommonCrawl as a great source of web crawl data. The latest CommonCrawl release is from January 2017 and can be found here:\n",
    "\n",
    "http://commoncrawl.org/2017/02/january-2017-crawl-archive-now-available/\n",
    "\n",
    "Especially the WET files are of interest to us, as they contain the plain text extracted from the crawls.\n",
    "\n",
    "## Task 1\n",
    "\n",
    "Using the `wet.paths.gz` file, a bash script, and the `curl` or `wget` programs, download the first few files from the archive.\n",
    "\n",
    "## Task 2\n",
    "\n",
    "### Part A) Get a wikimedia dump of your choosing from https://dumps.wikimedia.org/backup-index.html\n",
    "For example Finnish wikiquotes (https://dumps.wikimedia.org/fiwikiquote/20170301/) is called `fiwikiquote`.\n",
    "Find a version which reads something like *\"All pages, current versions only\"*.\n",
    "\n",
    "Which did you select?\n",
    "\n",
    "### Part B) Once downloaded, unpack the bz2 file using a command:\n",
    "\n",
    "The file may have a suffix `.bz2` rather than `.gz`. This is simply a different zipping format. This one is handled with the program `bunzip2`. So:\n",
    "\n",
    "    bunzip2 file_of_your_choice.bz2\n",
    "\n",
    "Example:\n",
    "\n",
    "    [guest@drain1 Downloads]$ bunzip2 fiwikiquote-20170301-pages-meta-current.xml.bz2\n",
    "    [guest@drain1 Downloads]$ ls\n",
    "    fiwikiquote-20170301-pages-meta-current.xml\n",
    "\n",
    "### Part C) Extract plaintext from your dump, using the command\n",
    "\n",
    "Download the following script http://bionlp-www.utu.fi/.mjluot/wikiripper_tm_course.py\n",
    "\n",
    "    python wikiripper_tm_course.py --plaintext fiwikiquote-20170301-pages-meta-current.xml > extracted_plaintext.txt\n",
    "\n",
    "What does the output look like?\n"
   ]
  }
 ],
 "metadata": {
  "kernelspec": {
   "display_name": "Python 3",
   "language": "python",
   "name": "python3"
  },
  "language_info": {
   "codemirror_mode": {
    "name": "ipython",
    "version": 3
   },
   "file_extension": ".py",
   "mimetype": "text/x-python",
   "name": "python",
   "nbconvert_exporter": "python",
   "pygments_lexer": "ipython3",
   "version": "3.5.2+"
  }
 },
 "nbformat": 4,
 "nbformat_minor": 2
}
