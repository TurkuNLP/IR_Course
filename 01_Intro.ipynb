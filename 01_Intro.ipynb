{
 "cells": [
  {
   "cell_type": "markdown",
   "metadata": {
    "deletable": true,
    "editable": true
   },
   "source": [
    "Disclaimer: some of the material is borrowed with thanks from http://www.cis.lmu.de/~hs/teach/14s/ir/\n",
    "\n",
    "# Information Retrieval\n",
    "\n",
    "## What is IR?\n",
    "\n",
    "* finding material (usually documents)\n",
    "* of an unstructured nature (usually text) \n",
    "* that satisfies an information need\n",
    "* from within large collections\n",
    "\n",
    "## What will you learn in this course?\n",
    "\n",
    "* Basics of IR: inverse index, boolean retrieval, weighting, result scoring\n",
    "* Data sources: CommonCrawl, Wiki dumps, web crawlers\n",
    "* Industry-grade search engine deployment - *Solr* and (maybe) Elasticsearch\n",
    "* Text and query pre-processing, normalization and expansion\n",
    "* Clustering, topic modeling\n",
    "* Fuzzy search - with an extreme example of OCR'ed old Finnish texts\n",
    "\n",
    "## Course organization\n",
    "\n",
    "* Tue - lecture\n",
    "* Wed and Thu - hands-on\n",
    "\n"
   ]
  }
 ],
 "metadata": {
  "kernelspec": {
   "display_name": "Python 3",
   "language": "python",
   "name": "python3"
  },
  "language_info": {
   "codemirror_mode": {
    "name": "ipython",
    "version": 3
   },
   "file_extension": ".py",
   "mimetype": "text/x-python",
   "name": "python",
   "nbconvert_exporter": "python",
   "pygments_lexer": "ipython3",
   "version": "3.5.2+"
  }
 },
 "nbformat": 4,
 "nbformat_minor": 2
}
