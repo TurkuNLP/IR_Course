{
 "cells": [
  {
   "cell_type": "markdown",
   "metadata": {},
   "source": [
    "# Indexing CoNLL-U data with SOLR\n",
    "\n",
    "* [CoNLL-U](http://universaldependencies.org/format.html) is a format for communicating linguistically processed data\n",
    "  * Text split into sentences, tokens\n",
    "  * Each token given a POS, morphological analysis\n",
    "  * Also syntactic head and dependency relation\n",
    "  \n",
    "# SOLR setup\n",
    "\n",
    "...blah blah how to setup...\n",
    "\n",
    "# One sentence i"
   ]
  }
 ],
 "metadata": {
  "kernelspec": {
   "display_name": "Python 3",
   "language": "python",
   "name": "python3"
  },
  "language_info": {
   "codemirror_mode": {
    "name": "ipython",
    "version": 3
   },
   "file_extension": ".py",
   "mimetype": "text/x-python",
   "name": "python",
   "nbconvert_exporter": "python",
   "pygments_lexer": "ipython3",
   "version": "3.4.3"
  }
 },
 "nbformat": 4,
 "nbformat_minor": 0
}
