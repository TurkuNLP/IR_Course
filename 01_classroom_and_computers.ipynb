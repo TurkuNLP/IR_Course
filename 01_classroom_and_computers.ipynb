{
 "cells": [
  {
   "cell_type": "markdown",
   "metadata": {
    "deletable": true,
    "editable": true
   },
   "source": [
    "# K127 classroom computers\n",
    "\n",
    "* These are linux computers which (as we have learned) do not use the university accounts\n",
    "* You will get your account from me:\n",
    "  * Username is your normal UTU username\n",
    "  * Password will be on a slip of paper you get from me\n",
    "  * You will need to change the password right away: 1) type in the old password (from the slip of paper) 2) type in your personal password and then one more time\n",
    "  * If you took the Text Mining course, or some of Veronika's courses, you can use your account, it is the same server\n",
    "\n",
    "# Course server\n",
    "\n",
    "* The classroom computers are not powerful enough for the course, so we use a dedicated server\n",
    "* server name: vm0964.kaj.pouta.csc.fi\n",
    "* user name: your normal UTU username, password I said during the demo, or email me if you didn't catch it, I cannot make it public here\n",
    "* change the default password right away using the command `passwd`\n",
    "\n",
    "## Accessing the course server\n",
    "\n",
    "### From the K127 classroom computers\n",
    "\n",
    "* Open a terminal and type\n",
    "\n",
    "    ssh -Y yourusername@vm0964.kaj.pouta.csc.fi\n",
    "\n",
    "### From any other Linux/Mac computer with SSH terminal\n",
    "\n",
    "It is possible to log in to the course server from anywhere with that same command:\n",
    "\n",
    "    ssh -Y yourusername@vm0964.kaj.pouta.csc.fi\n",
    "\n",
    "\n",
    "### From any other Windows computer\n",
    "\n",
    "* You can use the PuTTY program to connect, but you will also need XMing to get the graphical user interface (editors) working. It's possible but a bit of a hassle.\n",
    "* \n",
    "\n",
    "# Editing python code\n",
    "\n",
    "* Some of the exercises require you to write/edit a piece of code\n",
    "* On the course server, you can run for example `idle3` or `gedit` -- these are two okay graphical editors\n",
    "* To run a program either choose \"Run\" from idle3 menu, or `python3 myprogram.py` on the command line\n",
    "* You can also use the jupyter notebook on your laptop - it is quite handy\n"
   ]
  }
 ],
 "metadata": {
  "kernelspec": {
   "display_name": "Python 3",
   "language": "python",
   "name": "python3"
  },
  "language_info": {
   "codemirror_mode": {
    "name": "ipython",
    "version": 3
   },
   "file_extension": ".py",
   "mimetype": "text/x-python",
   "name": "python",
   "nbconvert_exporter": "python",
   "pygments_lexer": "ipython3",
   "version": "3.5.2+"
  }
 },
 "nbformat": 4,
 "nbformat_minor": 2
}
